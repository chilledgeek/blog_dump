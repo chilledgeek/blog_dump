{
 "cells": [
  {
   "cell_type": "markdown",
   "id": "a471a7ed",
   "metadata": {},
   "source": [
    "Prerequisites: install pandas!"
   ]
  },
  {
   "cell_type": "markdown",
   "id": "7d13f9cd",
   "metadata": {},
   "source": [
    "# Input"
   ]
  },
  {
   "cell_type": "code",
   "execution_count": 1,
   "id": "2f71ad6a",
   "metadata": {},
   "outputs": [],
   "source": [
    "import numpy\n",
    "\n",
    "selling_prices = list(numpy.random.randint(1, 1100, size=20000000))\n",
    "costs_per_unit = list(numpy.random.randint(1, 1000, size=20000000))\n",
    "units_sold_counts = list(numpy.random.randint(1, 2000, size=20000000))"
   ]
  },
  {
   "cell_type": "markdown",
   "id": "d2541351",
   "metadata": {},
   "source": [
    "# \"Exploratory\" computation "
   ]
  },
  {
   "cell_type": "code",
   "execution_count": 2,
   "id": "1d3262ea",
   "metadata": {},
   "outputs": [
    {
     "data": {
      "text/html": [
       "<div>\n",
       "<style scoped>\n",
       "    .dataframe tbody tr th:only-of-type {\n",
       "        vertical-align: middle;\n",
       "    }\n",
       "\n",
       "    .dataframe tbody tr th {\n",
       "        vertical-align: top;\n",
       "    }\n",
       "\n",
       "    .dataframe thead th {\n",
       "        text-align: right;\n",
       "    }\n",
       "</style>\n",
       "<table border=\"1\" class=\"dataframe\">\n",
       "  <thead>\n",
       "    <tr style=\"text-align: right;\">\n",
       "      <th></th>\n",
       "      <th>selling_prices</th>\n",
       "      <th>costs_per_unit</th>\n",
       "      <th>units_sold_counts</th>\n",
       "    </tr>\n",
       "  </thead>\n",
       "  <tbody>\n",
       "    <tr>\n",
       "      <th>0</th>\n",
       "      <td>208</td>\n",
       "      <td>664</td>\n",
       "      <td>1520</td>\n",
       "    </tr>\n",
       "    <tr>\n",
       "      <th>1</th>\n",
       "      <td>445</td>\n",
       "      <td>104</td>\n",
       "      <td>1750</td>\n",
       "    </tr>\n",
       "    <tr>\n",
       "      <th>2</th>\n",
       "      <td>875</td>\n",
       "      <td>854</td>\n",
       "      <td>754</td>\n",
       "    </tr>\n",
       "    <tr>\n",
       "      <th>3</th>\n",
       "      <td>1088</td>\n",
       "      <td>860</td>\n",
       "      <td>307</td>\n",
       "    </tr>\n",
       "    <tr>\n",
       "      <th>4</th>\n",
       "      <td>266</td>\n",
       "      <td>135</td>\n",
       "      <td>405</td>\n",
       "    </tr>\n",
       "  </tbody>\n",
       "</table>\n",
       "</div>"
      ],
      "text/plain": [
       "   selling_prices  costs_per_unit  units_sold_counts\n",
       "0             208             664               1520\n",
       "1             445             104               1750\n",
       "2             875             854                754\n",
       "3            1088             860                307\n",
       "4             266             135                405"
      ]
     },
     "execution_count": 2,
     "metadata": {},
     "output_type": "execute_result"
    }
   ],
   "source": [
    "import pandas\n",
    "\n",
    "# This is completely dumb, but just for exaggeration purposes...\n",
    "df = pandas.DataFrame()\n",
    "df.loc[:, \"selling_prices\"]  = selling_prices\n",
    "df.loc[:, \"costs_per_unit\"]  = costs_per_unit\n",
    "df.loc[:, \"units_sold_counts\"]  = units_sold_counts\n",
    "\n",
    "df.head()"
   ]
  },
  {
   "cell_type": "code",
   "execution_count": 3,
   "id": "702fee6a",
   "metadata": {},
   "outputs": [
    {
     "name": "stdout",
     "output_type": "stream",
     "text": [
      "997034922766\n"
     ]
    }
   ],
   "source": [
    "profit_per_fruit = df.apply(lambda x: (x[\"selling_prices\"] - x[\"costs_per_unit\"]) * x[\"units_sold_counts\"], axis=1)\n",
    "total_profit = sum(profit_per_fruit)\n",
    "\n",
    "print(total_profit)"
   ]
  },
  {
   "cell_type": "markdown",
   "id": "8973fdfc",
   "metadata": {},
   "source": [
    "# \"Simplify\""
   ]
  },
  {
   "cell_type": "code",
   "execution_count": 4,
   "id": "da5270f3",
   "metadata": {},
   "outputs": [],
   "source": [
    "# Create dataframe in one go + broadcasting\n",
    "df = pandas.DataFrame(\n",
    "    {\n",
    "        \"selling_prices\": selling_prices,\n",
    "        \"costs_per_unit\": costs_per_unit,\n",
    "        \"units_sold_counts\": units_sold_counts,\n",
    "    }\n",
    ")\n",
    "\n",
    "# Compute\n",
    "profit_per_fruit = (df[\"selling_prices\"] - df[\"costs_per_unit\"]) * df[\"units_sold_counts\"]\n",
    "\n",
    "assert sum(profit_per_fruit) == total_profit  # Just to check for consistency"
   ]
  },
  {
   "cell_type": "code",
   "execution_count": 5,
   "id": "11ea85d2",
   "metadata": {},
   "outputs": [],
   "source": [
    "# Without pandas\n",
    "profit_per_fruit = []\n",
    "\n",
    "for price, cost, unit in zip(selling_prices, costs_per_unit, units_sold_counts):\n",
    "    profit = (price - cost) * unit\n",
    "    profit_per_fruit.append(profit)\n",
    "\n",
    "assert sum(profit_per_fruit) == total_profit  # Just to check for consistency"
   ]
  },
  {
   "cell_type": "code",
   "execution_count": 6,
   "id": "f741aafc",
   "metadata": {},
   "outputs": [],
   "source": [
    "# With numpy\n",
    "\n",
    "price_array = numpy.array(selling_prices)\n",
    "cost_array = numpy.array(costs_per_unit)\n",
    "units_array = numpy.array(units_sold_counts)\n",
    "\n",
    "profit_per_fruit = (price_array - cost_array) * units_array\n",
    "\n",
    "assert sum(profit_per_fruit) == total_profit  # Just to check for consistency"
   ]
  },
  {
   "cell_type": "markdown",
   "id": "2d872628",
   "metadata": {},
   "source": [
    "# Race!"
   ]
  },
  {
   "cell_type": "code",
   "execution_count": 7,
   "id": "f4b65851",
   "metadata": {},
   "outputs": [
    {
     "name": "stdout",
     "output_type": "stream",
     "text": [
      "4min 40s ± 3.15 s per loop (mean ± std. dev. of 7 runs, 1 loop each)\n"
     ]
    }
   ],
   "source": [
    "%%timeit\n",
    "# Dumbest way\n",
    "df = pandas.DataFrame()\n",
    "df.loc[:, \"selling_prices\"]  = selling_prices\n",
    "df.loc[:, \"costs_per_unit\"]  = costs_per_unit\n",
    "df.loc[:, \"units_sold_counts\"]  = units_sold_counts\n",
    "\n",
    "profit_per_fruit = df.apply(lambda x: (x[\"selling_prices\"] - x[\"costs_per_unit\"]) * x[\"units_sold_counts\"], axis=1)\n",
    "assert sum(profit_per_fruit) == total_profit  # Just to check for consistency"
   ]
  },
  {
   "cell_type": "code",
   "execution_count": 8,
   "id": "bf2500b2",
   "metadata": {},
   "outputs": [
    {
     "name": "stdout",
     "output_type": "stream",
     "text": [
      "17.7 s ± 113 ms per loop (mean ± std. dev. of 7 runs, 1 loop each)\n"
     ]
    }
   ],
   "source": [
    "%%timeit\n",
    "# Still using pandas (but slightly improved)\n",
    "df = pandas.DataFrame({\n",
    "    \"selling_prices\": selling_prices,\n",
    "    \"costs_per_unit\": costs_per_unit,\n",
    "    \"units_sold_counts\": units_sold_counts,\n",
    "})\n",
    "\n",
    "profit_per_fruit = (df[\"selling_prices\"] - df[\"costs_per_unit\"]) * df[\"units_sold_counts\"]\n",
    "assert sum(profit_per_fruit) == total_profit  # Just to check for consistency"
   ]
  },
  {
   "cell_type": "code",
   "execution_count": 9,
   "id": "313e1ccf",
   "metadata": {},
   "outputs": [
    {
     "name": "stdout",
     "output_type": "stream",
     "text": [
      "4.48 s ± 34.8 ms per loop (mean ± std. dev. of 7 runs, 1 loop each)\n"
     ]
    }
   ],
   "source": [
    "%%timeit\n",
    "# Without pandas\n",
    "profit_per_fruit = []\n",
    "\n",
    "for price, cost, units_sold in zip(selling_prices, costs_per_unit, units_sold_counts):\n",
    "    profit = (price - cost) * units_sold\n",
    "    profit_per_fruit.append(profit)\n",
    "\n",
    "assert sum(profit_per_fruit) == total_profit  # Just to check for consistency"
   ]
  },
  {
   "cell_type": "code",
   "execution_count": 10,
   "id": "0a262f0b",
   "metadata": {},
   "outputs": [
    {
     "name": "stdout",
     "output_type": "stream",
     "text": [
      "3.82 s ± 124 ms per loop (mean ± std. dev. of 7 runs, 1 loop each)\n"
     ]
    }
   ],
   "source": [
    "%%timeit\n",
    "# With numpy\n",
    "price_array = numpy.array(selling_prices)\n",
    "cost_array = numpy.array(costs_per_unit)\n",
    "units_array = numpy.array(units_sold_counts)\n",
    "\n",
    "profit_per_fruit = (price_array - cost_array) * units_array\n",
    "assert sum(profit_per_fruit) == total_profit  # Just to check for consistency"
   ]
  },
  {
   "cell_type": "code",
   "execution_count": null,
   "id": "4661e4ae",
   "metadata": {},
   "outputs": [],
   "source": []
  }
 ],
 "metadata": {
  "kernelspec": {
   "display_name": "Python 3 (ipykernel)",
   "language": "python",
   "name": "python3"
  },
  "language_info": {
   "codemirror_mode": {
    "name": "ipython",
    "version": 3
   },
   "file_extension": ".py",
   "mimetype": "text/x-python",
   "name": "python",
   "nbconvert_exporter": "python",
   "pygments_lexer": "ipython3",
   "version": "3.8.10"
  }
 },
 "nbformat": 4,
 "nbformat_minor": 5
}
