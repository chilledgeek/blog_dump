{
 "cells": [
  {
   "cell_type": "markdown",
   "id": "a471a7ed",
   "metadata": {},
   "source": [
    "Prerequisites: install pandas!"
   ]
  },
  {
   "cell_type": "markdown",
   "id": "7d13f9cd",
   "metadata": {},
   "source": [
    "# Input"
   ]
  },
  {
   "cell_type": "code",
   "execution_count": 1,
   "id": "eebb879e",
   "metadata": {},
   "outputs": [],
   "source": [
    "fruit_name  = [\"dragon fruit\", \"star fruit\", \"durian\", \"lychee\", \"pomegranate\", \"cherimoya\"]\n",
    "selling_prices = [142, 52, 94, 72, 47, 86]\n",
    "costs_per_unit = [21, 14, 26, 18, 27, 38]\n",
    "units_sold_counts     = [9090, 6070, 3009, 9306, 2046, 6150]"
   ]
  },
  {
   "cell_type": "markdown",
   "id": "d2541351",
   "metadata": {},
   "source": [
    "# \"Exploratory\" computation "
   ]
  },
  {
   "cell_type": "code",
   "execution_count": 2,
   "id": "e32bc202",
   "metadata": {},
   "outputs": [
    {
     "data": {
      "text/html": [
       "<div>\n",
       "<style scoped>\n",
       "    .dataframe tbody tr th:only-of-type {\n",
       "        vertical-align: middle;\n",
       "    }\n",
       "\n",
       "    .dataframe tbody tr th {\n",
       "        vertical-align: top;\n",
       "    }\n",
       "\n",
       "    .dataframe thead th {\n",
       "        text-align: right;\n",
       "    }\n",
       "</style>\n",
       "<table border=\"1\" class=\"dataframe\">\n",
       "  <thead>\n",
       "    <tr style=\"text-align: right;\">\n",
       "      <th></th>\n",
       "      <th>selling_prices</th>\n",
       "      <th>costs_per_unit</th>\n",
       "      <th>units_sold_counts</th>\n",
       "    </tr>\n",
       "  </thead>\n",
       "  <tbody>\n",
       "    <tr>\n",
       "      <th>dragon fruit</th>\n",
       "      <td>142</td>\n",
       "      <td>21</td>\n",
       "      <td>9090</td>\n",
       "    </tr>\n",
       "    <tr>\n",
       "      <th>star fruit</th>\n",
       "      <td>52</td>\n",
       "      <td>14</td>\n",
       "      <td>6070</td>\n",
       "    </tr>\n",
       "    <tr>\n",
       "      <th>durian</th>\n",
       "      <td>94</td>\n",
       "      <td>26</td>\n",
       "      <td>3009</td>\n",
       "    </tr>\n",
       "    <tr>\n",
       "      <th>lychee</th>\n",
       "      <td>72</td>\n",
       "      <td>18</td>\n",
       "      <td>9306</td>\n",
       "    </tr>\n",
       "    <tr>\n",
       "      <th>pomegranate</th>\n",
       "      <td>47</td>\n",
       "      <td>27</td>\n",
       "      <td>2046</td>\n",
       "    </tr>\n",
       "  </tbody>\n",
       "</table>\n",
       "</div>"
      ],
      "text/plain": [
       "              selling_prices  costs_per_unit  units_sold_counts\n",
       "dragon fruit             142              21               9090\n",
       "star fruit                52              14               6070\n",
       "durian                    94              26               3009\n",
       "lychee                    72              18               9306\n",
       "pomegranate               47              27               2046"
      ]
     },
     "execution_count": 2,
     "metadata": {},
     "output_type": "execute_result"
    }
   ],
   "source": [
    "import pandas\n",
    "\n",
    "# This is completely dumb, but just for exaggeration purposes...\n",
    "df = pandas.DataFrame()\n",
    "df.loc[:, \"selling_prices\"]  = selling_prices\n",
    "df.loc[:, \"costs_per_unit\"]  = costs_per_unit\n",
    "df.loc[:, \"units_sold_counts\"]  = units_sold_counts\n",
    "df.index = fruit_name\n",
    "\n",
    "df.head()"
   ]
  },
  {
   "cell_type": "code",
   "execution_count": 3,
   "id": "d1576d43",
   "metadata": {},
   "outputs": [
    {
     "name": "stdout",
     "output_type": "stream",
     "text": [
      "[1099890, 230660, 204612, 502524, 40920, 295200]\n"
     ]
    }
   ],
   "source": [
    "profit_per_fruit = df.apply(lambda x: (x[\"selling_prices\"] - x[\"costs_per_unit\"]) * x[\"units_sold_counts\"], axis=1)\n",
    "print(list(profit_per_fruit))"
   ]
  },
  {
   "cell_type": "markdown",
   "id": "8973fdfc",
   "metadata": {},
   "source": [
    "# \"Simplify\""
   ]
  },
  {
   "cell_type": "code",
   "execution_count": 4,
   "id": "da5270f3",
   "metadata": {},
   "outputs": [
    {
     "data": {
      "text/html": [
       "<div>\n",
       "<style scoped>\n",
       "    .dataframe tbody tr th:only-of-type {\n",
       "        vertical-align: middle;\n",
       "    }\n",
       "\n",
       "    .dataframe tbody tr th {\n",
       "        vertical-align: top;\n",
       "    }\n",
       "\n",
       "    .dataframe thead th {\n",
       "        text-align: right;\n",
       "    }\n",
       "</style>\n",
       "<table border=\"1\" class=\"dataframe\">\n",
       "  <thead>\n",
       "    <tr style=\"text-align: right;\">\n",
       "      <th></th>\n",
       "      <th>selling_prices</th>\n",
       "      <th>costs_per_unit</th>\n",
       "      <th>units_sold_counts</th>\n",
       "    </tr>\n",
       "  </thead>\n",
       "  <tbody>\n",
       "    <tr>\n",
       "      <th>dragon fruit</th>\n",
       "      <td>142</td>\n",
       "      <td>21</td>\n",
       "      <td>9090</td>\n",
       "    </tr>\n",
       "    <tr>\n",
       "      <th>star fruit</th>\n",
       "      <td>52</td>\n",
       "      <td>14</td>\n",
       "      <td>6070</td>\n",
       "    </tr>\n",
       "    <tr>\n",
       "      <th>durian</th>\n",
       "      <td>94</td>\n",
       "      <td>26</td>\n",
       "      <td>3009</td>\n",
       "    </tr>\n",
       "    <tr>\n",
       "      <th>lychee</th>\n",
       "      <td>72</td>\n",
       "      <td>18</td>\n",
       "      <td>9306</td>\n",
       "    </tr>\n",
       "    <tr>\n",
       "      <th>pomegranate</th>\n",
       "      <td>47</td>\n",
       "      <td>27</td>\n",
       "      <td>2046</td>\n",
       "    </tr>\n",
       "  </tbody>\n",
       "</table>\n",
       "</div>"
      ],
      "text/plain": [
       "              selling_prices  costs_per_unit  units_sold_counts\n",
       "dragon fruit             142              21               9090\n",
       "star fruit                52              14               6070\n",
       "durian                    94              26               3009\n",
       "lychee                    72              18               9306\n",
       "pomegranate               47              27               2046"
      ]
     },
     "execution_count": 4,
     "metadata": {},
     "output_type": "execute_result"
    }
   ],
   "source": [
    "# Create dataframe in one go\n",
    "df = pandas.DataFrame(\n",
    "    {\n",
    "        \"selling_prices\": selling_prices,\n",
    "        \"costs_per_unit\": costs_per_unit,\n",
    "        \"units_sold_counts\": units_sold_counts,\n",
    "    },\n",
    "    index=fruit_name,\n",
    ")\n",
    "\n",
    "df.head()"
   ]
  },
  {
   "cell_type": "code",
   "execution_count": 5,
   "id": "9281b121",
   "metadata": {},
   "outputs": [
    {
     "name": "stdout",
     "output_type": "stream",
     "text": [
      "[1099890, 230660, 204612, 502524, 40920, 295200]\n"
     ]
    }
   ],
   "source": [
    "# Compute\n",
    "profit_per_fruit = (df[\"selling_prices\"] - df[\"costs_per_unit\"]) * df[\"units_sold_counts\"]\n",
    "print(list(profit_per_fruit))"
   ]
  },
  {
   "cell_type": "code",
   "execution_count": 6,
   "id": "11ea85d2",
   "metadata": {},
   "outputs": [
    {
     "name": "stdout",
     "output_type": "stream",
     "text": [
      "[1099890, 230660, 204612, 502524, 40920, 295200]\n"
     ]
    }
   ],
   "source": [
    "# Without pandas\n",
    "profit_per_fruit = []\n",
    "\n",
    "for price, cost, unit in zip(selling_prices, costs_per_unit, units_sold_counts):\n",
    "    profit = (price - cost) * unit\n",
    "    profit_per_fruit.append(profit)\n",
    "\n",
    "print(profit_per_fruit)"
   ]
  },
  {
   "cell_type": "markdown",
   "id": "b8706ad6",
   "metadata": {},
   "source": [
    "# Race!"
   ]
  },
  {
   "cell_type": "code",
   "execution_count": 7,
   "id": "81cf2a42",
   "metadata": {},
   "outputs": [
    {
     "name": "stdout",
     "output_type": "stream",
     "text": [
      "1.78 ms ± 41.5 µs per loop (mean ± std. dev. of 7 runs, 1000 loops each)\n"
     ]
    }
   ],
   "source": [
    "%%timeit\n",
    "\n",
    "# Dumbest way\n",
    "df = pandas.DataFrame()\n",
    "df.loc[:, \"selling_prices\"]  = selling_prices\n",
    "df.loc[:, \"costs_per_unit\"]  = costs_per_unit\n",
    "df.loc[:, \"units_sold_counts\"]  = units_sold_counts\n",
    "df.index = fruit_name\n",
    "profit_per_fruit = df.apply(lambda x: (x[\"selling_prices\"] - x[\"costs_per_unit\"]) * x[\"units_sold_counts\"], axis=1)"
   ]
  },
  {
   "cell_type": "code",
   "execution_count": 8,
   "id": "6f668b73",
   "metadata": {},
   "outputs": [
    {
     "name": "stdout",
     "output_type": "stream",
     "text": [
      "503 µs ± 11.2 µs per loop (mean ± std. dev. of 7 runs, 1000 loops each)\n"
     ]
    }
   ],
   "source": [
    "%%timeit\n",
    "\n",
    "# Still with pandas, but sped up\n",
    "df = pandas.DataFrame(\n",
    "    {\n",
    "        \"selling_prices\": selling_prices,\n",
    "        \"costs_per_unit\": costs_per_unit,\n",
    "        \"units_sold_counts\": units_sold_counts,\n",
    "    }\n",
    "    # index=fruit_name,  # Even ditching the index!!!\n",
    ")\n",
    "\n",
    "# Compute\n",
    "profit_per_fruit = (df[\"selling_prices\"] - df[\"costs_per_unit\"]) * df[\"units_sold_counts\"]"
   ]
  },
  {
   "cell_type": "code",
   "execution_count": 9,
   "id": "9b269cc6",
   "metadata": {},
   "outputs": [
    {
     "name": "stdout",
     "output_type": "stream",
     "text": [
      "1 µs ± 3.23 ns per loop (mean ± std. dev. of 7 runs, 1000000 loops each)\n"
     ]
    }
   ],
   "source": [
    "%%timeit\n",
    "\n",
    "# Without pandas\n",
    "profit_per_fruit = []\n",
    "\n",
    "for price, cost, units_sold in zip(selling_prices, costs_per_unit, units_sold_counts):\n",
    "    profit = (price - cost) * units_sold\n",
    "    profit_per_fruit.append(profit)"
   ]
  },
  {
   "cell_type": "code",
   "execution_count": 10,
   "id": "c3250dad",
   "metadata": {},
   "outputs": [
    {
     "name": "stdout",
     "output_type": "stream",
     "text": [
      "1.19 µs ± 12.6 ns per loop (mean ± std. dev. of 7 runs, 1000000 loops each)\n"
     ]
    }
   ],
   "source": [
    "%%timeit\n",
    "\n",
    "# Without pandas, with list comprehension\n",
    "profit_per_fruit = [\n",
    "    (x[0] - x[1]) * x[2] for x in\n",
    "    zip(selling_prices, costs_per_unit, units_sold_counts)\n",
    "]"
   ]
  },
  {
   "cell_type": "code",
   "execution_count": null,
   "id": "accb492b",
   "metadata": {},
   "outputs": [],
   "source": []
  }
 ],
 "metadata": {
  "kernelspec": {
   "display_name": "Python 3 (ipykernel)",
   "language": "python",
   "name": "python3"
  },
  "language_info": {
   "codemirror_mode": {
    "name": "ipython",
    "version": 3
   },
   "file_extension": ".py",
   "mimetype": "text/x-python",
   "name": "python",
   "nbconvert_exporter": "python",
   "pygments_lexer": "ipython3",
   "version": "3.8.10"
  }
 },
 "nbformat": 4,
 "nbformat_minor": 5
}
